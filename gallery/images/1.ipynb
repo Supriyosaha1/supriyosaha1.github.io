{
 "cells": [
  {
   "cell_type": "code",
   "execution_count": 3,
   "id": "4bde3a8c",
   "metadata": {},
   "outputs": [
    {
     "name": "stdout",
     "output_type": "stream",
     "text": [
      "Renaming complete. JS list written to image_list.js.\n"
     ]
    }
   ],
   "source": [
    "import os\n",
    "import random\n",
    "\n",
    "# Path to the folder with your images\n",
    "image_folder = 'college_life'\n",
    "\n",
    "# Get all image files (common extensions)\n",
    "extensions = ('.jpg', '.jpeg', '.png', '.webp', '.gif')\n",
    "files = [f for f in os.listdir(image_folder) if f.lower().endswith(extensions)]\n",
    "\n",
    "# Shuffle for randomness\n",
    "random.shuffle(files)\n",
    "\n",
    "# Rename files to im1.jpg, im2.jpg, ...\n",
    "new_names = []\n",
    "for idx, filename in enumerate(files, 1):\n",
    "    ext = os.path.splitext(filename)[1]\n",
    "    new_name = f\"im{idx}{ext}\"\n",
    "    os.rename(os.path.join(image_folder, filename), os.path.join(image_folder, new_name))\n",
    "    new_names.append(new_name)\n",
    "\n",
    "# Generate HTML image list for gallery\n",
    "with open(\"image_list.js\", \"w\") as js_file:\n",
    "    js_file.write(\"const localImages = [\\n\")\n",
    "    for name in new_names:\n",
    "        js_file.write(f\"  'images/college_life/{name}',\\n\")\n",
    "    js_file.write(\"];\")\n",
    "\n",
    "print(\"Renaming complete. JS list written to image_list.js.\")\n"
   ]
  },
  {
   "cell_type": "code",
   "execution_count": null,
   "id": "e25d3ce7",
   "metadata": {},
   "outputs": [],
   "source": []
  }
 ],
 "metadata": {
  "kernelspec": {
   "display_name": "shear_env",
   "language": "python",
   "name": "python3"
  },
  "language_info": {
   "codemirror_mode": {
    "name": "ipython",
    "version": 3
   },
   "file_extension": ".py",
   "mimetype": "text/x-python",
   "name": "python",
   "nbconvert_exporter": "python",
   "pygments_lexer": "ipython3",
   "version": "3.9.20"
  }
 },
 "nbformat": 4,
 "nbformat_minor": 5
}
